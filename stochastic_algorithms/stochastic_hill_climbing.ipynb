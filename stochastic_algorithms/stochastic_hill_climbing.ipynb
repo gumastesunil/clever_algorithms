{
 "cells": [
  {
   "cell_type": "markdown",
   "metadata": {},
   "source": [
    "### Adapted from, Stochastic Hill Climbing algorithm in the Ruby Programming Language  \n",
    "  \n",
    "The Clever Algorithms Project: http://www.CleverAlgorithms.com  \n",
    "(c) Copyright 2010 Jason Brownlee. Some Rights Reserved.   \n",
    "This work is licensed under a Creative Commons Attribution-Noncommercial-Share Alike 2.5 Australia License.  \n",
    "  \n",
    "Stochastic Hill Climbing, SHC, Random Hill Climbing, RHC, Random Mutation Hill Climbing, RMHC  "
   ]
  },
  {
   "cell_type": "code",
   "execution_count": 1,
   "metadata": {
    "collapsed": true
   },
   "outputs": [],
   "source": [
    "from random import random, seed, randrange\n",
    "import numpy as np\n",
    "import matplotlib.pyplot as plt\n",
    "from mpl_toolkits import mplot3d"
   ]
  },
  {
   "cell_type": "code",
   "execution_count": 2,
   "metadata": {
    "collapsed": false
   },
   "outputs": [],
   "source": [
    "# set seed for reproducibility\n",
    "seed(1)"
   ]
  },
  {
   "cell_type": "code",
   "execution_count": 3,
   "metadata": {
    "collapsed": true
   },
   "outputs": [],
   "source": [
    "def random_bitstring(num_bits):\n",
    "    bit_string = list()\n",
    "    for i in range(num_bits):\n",
    "        if random() < 0.5:\n",
    "            bit_string.append(1)\n",
    "        else:\n",
    "            bit_string.append(0)\n",
    "    return bit_string"
   ]
  },
  {
   "cell_type": "code",
   "execution_count": 4,
   "metadata": {
    "collapsed": true
   },
   "outputs": [],
   "source": [
    "def onemax(vector):\n",
    "    return sum(vector)"
   ]
  },
  {
   "cell_type": "code",
   "execution_count": 5,
   "metadata": {
    "collapsed": true
   },
   "outputs": [],
   "source": [
    "def random_neighbor(bitstring):\n",
    "    size = len(bitstring)\n",
    "    mutant = list(bitstring)\n",
    "    pos = randrange(0, size)\n",
    "    if mutant[pos] == 1:\n",
    "        mutant[pos] = 0\n",
    "    else:\n",
    "        mutant[pos] = 1\n",
    "    return mutant"
   ]
  },
  {
   "cell_type": "code",
   "execution_count": 6,
   "metadata": {
    "collapsed": true
   },
   "outputs": [],
   "source": [
    "class StochasticHillClimbing(object):\n",
    "    def __init__(self, max_iterations, num_bits):\n",
    "        self.max_iterations = max_iterations\n",
    "        self.num_bits = num_bits\n",
    "        self.candidate_solutions = list()\n",
    "        self.best_solution = None\n",
    "\n",
    "    def search(self):\n",
    "        candidate = dict()\n",
    "        candidate['vector'] = random_bitstring(self.num_bits)\n",
    "        candidate['cost'] = onemax(candidate['vector'])\n",
    "        self.candidate_solutions.append(candidate)\n",
    "        for i in range(max_iterations):\n",
    "            neighbor = dict()\n",
    "            neighbor['vector'] = random_neighbor(candidate['vector'])\n",
    "            neighbor['cost'] = onemax(neighbor['vector'])\n",
    "            if neighbor['cost'] >= candidate['cost']:\n",
    "                candidate = neighbor\n",
    "                self.candidate_solutions.append(candidate)\n",
    "                self.best_solution = candidate\n",
    "            # end if\n",
    "            print(' > iteration = {:3d}, best = {:3d}'.format(i+1, candidate['cost']))\n",
    "            if candidate['cost'] == num_bits:\n",
    "                break\n",
    "            # end if\n",
    "        # end for\n",
    "        return"
   ]
  },
  {
   "cell_type": "code",
   "execution_count": 7,
   "metadata": {
    "collapsed": false
   },
   "outputs": [
    {
     "name": "stdout",
     "output_type": "stream",
     "text": [
      " > iteration =   1, best =   7\n",
      " > iteration =   2, best =   7\n",
      " > iteration =   3, best =   7\n",
      " > iteration =   4, best =   7\n",
      " > iteration =   5, best =   8\n",
      " > iteration =   6, best =   8\n",
      " > iteration =   7, best =   8\n",
      " > iteration =   8, best =   8\n",
      " > iteration =   9, best =   9\n",
      " > iteration =  10, best =   9\n",
      " > iteration =  11, best =   9\n",
      " > iteration =  12, best =   9\n",
      " > iteration =  13, best =   9\n",
      " > iteration =  14, best =   9\n",
      " > iteration =  15, best =   9\n",
      " > iteration =  16, best =   9\n",
      " > iteration =  17, best =   9\n",
      " > iteration =  18, best =   9\n",
      " > iteration =  19, best =   9\n",
      " > iteration =  20, best =   9\n",
      " > iteration =  21, best =   9\n",
      " > iteration =  22, best =   9\n",
      " > iteration =  23, best =   9\n",
      " > iteration =  24, best =   9\n",
      " > iteration =  25, best =   9\n",
      " > iteration =  26, best =   9\n",
      " > iteration =  27, best =   9\n",
      " > iteration =  28, best =   9\n",
      " > iteration =  29, best =   9\n",
      " > iteration =  30, best =   9\n",
      " > iteration =  31, best =   9\n",
      " > iteration =  32, best =   9\n",
      " > iteration =  33, best =   9\n",
      " > iteration =  34, best =   9\n",
      " > iteration =  35, best =  10\n",
      "Done. \n",
      "Best Solution: Vector = [1, 1, 1, 1, 1, 1, 1, 1, 1, 1], Cost =  10\n",
      "Sequence of steps:\n",
      "Vector = [1, 0, 0, 1, 1, 1, 0, 0, 1, 1], Cost =   6\n",
      "Vector = [1, 0, 0, 1, 1, 1, 1, 0, 1, 1], Cost =   7\n",
      "Vector = [1, 0, 0, 1, 1, 1, 1, 1, 1, 1], Cost =   8\n",
      "Vector = [1, 1, 0, 1, 1, 1, 1, 1, 1, 1], Cost =   9\n",
      "Vector = [1, 1, 1, 1, 1, 1, 1, 1, 1, 1], Cost =  10\n"
     ]
    }
   ],
   "source": [
    "if __name__ == '__main__':\n",
    "    # problem configuration\n",
    "    num_bits = 10  # 64\n",
    "    # algorithm configuration\n",
    "    max_iterations = 1000\n",
    "    # execute the algorithm\n",
    "    stochastic_hill_climbing = StochasticHillClimbing(max_iterations, num_bits)\n",
    "    stochastic_hill_climbing.search()\n",
    "    # best, step_sequence = search(max_iterations, num_bits)\n",
    "    best, step_sequence = stochastic_hill_climbing.best_solution, stochastic_hill_climbing.candidate_solutions\n",
    "    print(\"Done. \\nBest Solution: Vector = {b[vector]}, Cost = {b[cost]:3d}\".format(b=best))\n",
    "    print(\"Sequence of steps:\")\n",
    "    for step in step_sequence:\n",
    "        print(\"Vector = {s[vector]}, Cost = {s[cost]:3d}\".format(s=step))"
   ]
  }
 ],
 "metadata": {
  "kernelspec": {
   "display_name": "Python [conda env:aind]",
   "language": "python",
   "name": "conda-env-aind-py"
  },
  "language_info": {
   "codemirror_mode": {
    "name": "ipython",
    "version": 3
   },
   "file_extension": ".py",
   "mimetype": "text/x-python",
   "name": "python",
   "nbconvert_exporter": "python",
   "pygments_lexer": "ipython3",
   "version": "3.5.4"
  }
 },
 "nbformat": 4,
 "nbformat_minor": 2
}
