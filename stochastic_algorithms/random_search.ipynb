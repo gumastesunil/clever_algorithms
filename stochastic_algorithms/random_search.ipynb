{
 "cells": [
  {
   "cell_type": "markdown",
   "metadata": {
    "collapsed": true
   },
   "source": [
    "### Adapted from, Random Search in the Ruby Programming Language\n",
    "\n",
    "The Clever Algorithms Project: http://www.CleverAlgorithms.com  \n",
    "(c) Copyright 2010 Jason Brownlee. Some Rights Reserved.   \n",
    "This work is licensed under a Creative Commons Attribution-Noncommercial-Share Alike 2.5 Australia License.  \n",
    "  \n",
    "Random Search, RS, Blind Random Search, Blind Search, Pure Random Search, PRS  "
   ]
  },
  {
   "cell_type": "code",
   "execution_count": 1,
   "metadata": {
    "collapsed": false
   },
   "outputs": [],
   "source": [
    "import random\n",
    "import numpy as np\n",
    "import matplotlib.pyplot as plt\n",
    "from mpl_toolkits import mplot3d"
   ]
  },
  {
   "cell_type": "code",
   "execution_count": 2,
   "metadata": {
    "collapsed": true
   },
   "outputs": [],
   "source": [
    "# set seed for reproducibility\n",
    "random.seed(1)"
   ]
  },
  {
   "cell_type": "code",
   "execution_count": 3,
   "metadata": {
    "collapsed": false
   },
   "outputs": [
    {
     "ename": "ImportError",
     "evalue": "No module named 'pep8_magic'",
     "output_type": "error",
     "traceback": [
      "\u001b[1;31m---------------------------------------------------------------------------\u001b[0m",
      "\u001b[1;31mImportError\u001b[0m                               Traceback (most recent call last)",
      "\u001b[1;32m<ipython-input-3-5ca6ebcb1060>\u001b[0m in \u001b[0;36m<module>\u001b[1;34m()\u001b[0m\n\u001b[0;32m      1\u001b[0m \u001b[1;31m# make sure you have the pep8_magic installed\u001b[0m\u001b[1;33m\u001b[0m\u001b[1;33m\u001b[0m\u001b[0m\n\u001b[0;32m      2\u001b[0m \u001b[1;31m# jupyter nbextension install --user pep8_magic.py\u001b[0m\u001b[1;33m\u001b[0m\u001b[1;33m\u001b[0m\u001b[0m\n\u001b[1;32m----> 3\u001b[1;33m \u001b[0mget_ipython\u001b[0m\u001b[1;33m(\u001b[0m\u001b[1;33m)\u001b[0m\u001b[1;33m.\u001b[0m\u001b[0mrun_line_magic\u001b[0m\u001b[1;33m(\u001b[0m\u001b[1;34m'load_ext'\u001b[0m\u001b[1;33m,\u001b[0m \u001b[1;34m'pep8_magic'\u001b[0m\u001b[1;33m)\u001b[0m\u001b[1;33m\u001b[0m\u001b[0m\n\u001b[0m",
      "\u001b[1;32m~\\AppData\\Local\\Continuum\\Anaconda2_Python3\\envs\\aind\\lib\\site-packages\\IPython\\core\\interactiveshell.py\u001b[0m in \u001b[0;36mrun_line_magic\u001b[1;34m(self, magic_name, line, _stack_depth)\u001b[0m\n\u001b[0;32m   2129\u001b[0m                 \u001b[0mkwargs\u001b[0m\u001b[1;33m[\u001b[0m\u001b[1;34m'local_ns'\u001b[0m\u001b[1;33m]\u001b[0m \u001b[1;33m=\u001b[0m \u001b[0msys\u001b[0m\u001b[1;33m.\u001b[0m\u001b[0m_getframe\u001b[0m\u001b[1;33m(\u001b[0m\u001b[0mstack_depth\u001b[0m\u001b[1;33m)\u001b[0m\u001b[1;33m.\u001b[0m\u001b[0mf_locals\u001b[0m\u001b[1;33m\u001b[0m\u001b[0m\n\u001b[0;32m   2130\u001b[0m             \u001b[1;32mwith\u001b[0m \u001b[0mself\u001b[0m\u001b[1;33m.\u001b[0m\u001b[0mbuiltin_trap\u001b[0m\u001b[1;33m:\u001b[0m\u001b[1;33m\u001b[0m\u001b[0m\n\u001b[1;32m-> 2131\u001b[1;33m                 \u001b[0mresult\u001b[0m \u001b[1;33m=\u001b[0m \u001b[0mfn\u001b[0m\u001b[1;33m(\u001b[0m\u001b[1;33m*\u001b[0m\u001b[0margs\u001b[0m\u001b[1;33m,\u001b[0m\u001b[1;33m**\u001b[0m\u001b[0mkwargs\u001b[0m\u001b[1;33m)\u001b[0m\u001b[1;33m\u001b[0m\u001b[0m\n\u001b[0m\u001b[0;32m   2132\u001b[0m             \u001b[1;32mreturn\u001b[0m \u001b[0mresult\u001b[0m\u001b[1;33m\u001b[0m\u001b[0m\n\u001b[0;32m   2133\u001b[0m \u001b[1;33m\u001b[0m\u001b[0m\n",
      "\u001b[1;32m<decorator-gen-66>\u001b[0m in \u001b[0;36mload_ext\u001b[1;34m(self, module_str)\u001b[0m\n",
      "\u001b[1;32m~\\AppData\\Local\\Continuum\\Anaconda2_Python3\\envs\\aind\\lib\\site-packages\\IPython\\core\\magic.py\u001b[0m in \u001b[0;36m<lambda>\u001b[1;34m(f, *a, **k)\u001b[0m\n\u001b[0;32m    185\u001b[0m     \u001b[1;31m# but it's overkill for just that one bit of state.\u001b[0m\u001b[1;33m\u001b[0m\u001b[1;33m\u001b[0m\u001b[0m\n\u001b[0;32m    186\u001b[0m     \u001b[1;32mdef\u001b[0m \u001b[0mmagic_deco\u001b[0m\u001b[1;33m(\u001b[0m\u001b[0marg\u001b[0m\u001b[1;33m)\u001b[0m\u001b[1;33m:\u001b[0m\u001b[1;33m\u001b[0m\u001b[0m\n\u001b[1;32m--> 187\u001b[1;33m         \u001b[0mcall\u001b[0m \u001b[1;33m=\u001b[0m \u001b[1;32mlambda\u001b[0m \u001b[0mf\u001b[0m\u001b[1;33m,\u001b[0m \u001b[1;33m*\u001b[0m\u001b[0ma\u001b[0m\u001b[1;33m,\u001b[0m \u001b[1;33m**\u001b[0m\u001b[0mk\u001b[0m\u001b[1;33m:\u001b[0m \u001b[0mf\u001b[0m\u001b[1;33m(\u001b[0m\u001b[1;33m*\u001b[0m\u001b[0ma\u001b[0m\u001b[1;33m,\u001b[0m \u001b[1;33m**\u001b[0m\u001b[0mk\u001b[0m\u001b[1;33m)\u001b[0m\u001b[1;33m\u001b[0m\u001b[0m\n\u001b[0m\u001b[0;32m    188\u001b[0m \u001b[1;33m\u001b[0m\u001b[0m\n\u001b[0;32m    189\u001b[0m         \u001b[1;32mif\u001b[0m \u001b[0mcallable\u001b[0m\u001b[1;33m(\u001b[0m\u001b[0marg\u001b[0m\u001b[1;33m)\u001b[0m\u001b[1;33m:\u001b[0m\u001b[1;33m\u001b[0m\u001b[0m\n",
      "\u001b[1;32m~\\AppData\\Local\\Continuum\\Anaconda2_Python3\\envs\\aind\\lib\\site-packages\\IPython\\core\\magics\\extension.py\u001b[0m in \u001b[0;36mload_ext\u001b[1;34m(self, module_str)\u001b[0m\n\u001b[0;32m     31\u001b[0m         \u001b[1;32mif\u001b[0m \u001b[1;32mnot\u001b[0m \u001b[0mmodule_str\u001b[0m\u001b[1;33m:\u001b[0m\u001b[1;33m\u001b[0m\u001b[0m\n\u001b[0;32m     32\u001b[0m             \u001b[1;32mraise\u001b[0m \u001b[0mUsageError\u001b[0m\u001b[1;33m(\u001b[0m\u001b[1;34m'Missing module name.'\u001b[0m\u001b[1;33m)\u001b[0m\u001b[1;33m\u001b[0m\u001b[0m\n\u001b[1;32m---> 33\u001b[1;33m         \u001b[0mres\u001b[0m \u001b[1;33m=\u001b[0m \u001b[0mself\u001b[0m\u001b[1;33m.\u001b[0m\u001b[0mshell\u001b[0m\u001b[1;33m.\u001b[0m\u001b[0mextension_manager\u001b[0m\u001b[1;33m.\u001b[0m\u001b[0mload_extension\u001b[0m\u001b[1;33m(\u001b[0m\u001b[0mmodule_str\u001b[0m\u001b[1;33m)\u001b[0m\u001b[1;33m\u001b[0m\u001b[0m\n\u001b[0m\u001b[0;32m     34\u001b[0m \u001b[1;33m\u001b[0m\u001b[0m\n\u001b[0;32m     35\u001b[0m         \u001b[1;32mif\u001b[0m \u001b[0mres\u001b[0m \u001b[1;33m==\u001b[0m \u001b[1;34m'already loaded'\u001b[0m\u001b[1;33m:\u001b[0m\u001b[1;33m\u001b[0m\u001b[0m\n",
      "\u001b[1;32m~\\AppData\\Local\\Continuum\\Anaconda2_Python3\\envs\\aind\\lib\\site-packages\\IPython\\core\\extensions.py\u001b[0m in \u001b[0;36mload_extension\u001b[1;34m(self, module_str)\u001b[0m\n\u001b[0;32m     83\u001b[0m             \u001b[1;32mif\u001b[0m \u001b[0mmodule_str\u001b[0m \u001b[1;32mnot\u001b[0m \u001b[1;32min\u001b[0m \u001b[0msys\u001b[0m\u001b[1;33m.\u001b[0m\u001b[0mmodules\u001b[0m\u001b[1;33m:\u001b[0m\u001b[1;33m\u001b[0m\u001b[0m\n\u001b[0;32m     84\u001b[0m                 \u001b[1;32mwith\u001b[0m \u001b[0mprepended_to_syspath\u001b[0m\u001b[1;33m(\u001b[0m\u001b[0mself\u001b[0m\u001b[1;33m.\u001b[0m\u001b[0mipython_extension_dir\u001b[0m\u001b[1;33m)\u001b[0m\u001b[1;33m:\u001b[0m\u001b[1;33m\u001b[0m\u001b[0m\n\u001b[1;32m---> 85\u001b[1;33m                     \u001b[0mmod\u001b[0m \u001b[1;33m=\u001b[0m \u001b[0mimport_module\u001b[0m\u001b[1;33m(\u001b[0m\u001b[0mmodule_str\u001b[0m\u001b[1;33m)\u001b[0m\u001b[1;33m\u001b[0m\u001b[0m\n\u001b[0m\u001b[0;32m     86\u001b[0m                     \u001b[1;32mif\u001b[0m \u001b[0mmod\u001b[0m\u001b[1;33m.\u001b[0m\u001b[0m__file__\u001b[0m\u001b[1;33m.\u001b[0m\u001b[0mstartswith\u001b[0m\u001b[1;33m(\u001b[0m\u001b[0mself\u001b[0m\u001b[1;33m.\u001b[0m\u001b[0mipython_extension_dir\u001b[0m\u001b[1;33m)\u001b[0m\u001b[1;33m:\u001b[0m\u001b[1;33m\u001b[0m\u001b[0m\n\u001b[0;32m     87\u001b[0m                         print((\"Loading extensions from {dir} is deprecated. \"\n",
      "\u001b[1;32m~\\AppData\\Local\\Continuum\\Anaconda2_Python3\\envs\\aind\\lib\\importlib\\__init__.py\u001b[0m in \u001b[0;36mimport_module\u001b[1;34m(name, package)\u001b[0m\n\u001b[0;32m    124\u001b[0m                 \u001b[1;32mbreak\u001b[0m\u001b[1;33m\u001b[0m\u001b[0m\n\u001b[0;32m    125\u001b[0m             \u001b[0mlevel\u001b[0m \u001b[1;33m+=\u001b[0m \u001b[1;36m1\u001b[0m\u001b[1;33m\u001b[0m\u001b[0m\n\u001b[1;32m--> 126\u001b[1;33m     \u001b[1;32mreturn\u001b[0m \u001b[0m_bootstrap\u001b[0m\u001b[1;33m.\u001b[0m\u001b[0m_gcd_import\u001b[0m\u001b[1;33m(\u001b[0m\u001b[0mname\u001b[0m\u001b[1;33m[\u001b[0m\u001b[0mlevel\u001b[0m\u001b[1;33m:\u001b[0m\u001b[1;33m]\u001b[0m\u001b[1;33m,\u001b[0m \u001b[0mpackage\u001b[0m\u001b[1;33m,\u001b[0m \u001b[0mlevel\u001b[0m\u001b[1;33m)\u001b[0m\u001b[1;33m\u001b[0m\u001b[0m\n\u001b[0m\u001b[0;32m    127\u001b[0m \u001b[1;33m\u001b[0m\u001b[0m\n\u001b[0;32m    128\u001b[0m \u001b[1;33m\u001b[0m\u001b[0m\n",
      "\u001b[1;32m~\\AppData\\Local\\Continuum\\Anaconda2_Python3\\envs\\aind\\lib\\importlib\\_bootstrap.py\u001b[0m in \u001b[0;36m_gcd_import\u001b[1;34m(name, package, level)\u001b[0m\n",
      "\u001b[1;32m~\\AppData\\Local\\Continuum\\Anaconda2_Python3\\envs\\aind\\lib\\importlib\\_bootstrap.py\u001b[0m in \u001b[0;36m_find_and_load\u001b[1;34m(name, import_)\u001b[0m\n",
      "\u001b[1;32m~\\AppData\\Local\\Continuum\\Anaconda2_Python3\\envs\\aind\\lib\\importlib\\_bootstrap.py\u001b[0m in \u001b[0;36m_find_and_load_unlocked\u001b[1;34m(name, import_)\u001b[0m\n",
      "\u001b[1;31mImportError\u001b[0m: No module named 'pep8_magic'"
     ]
    }
   ],
   "source": [
    "# make sure you have the pep8_magic installed\n",
    "# jupyter nbextension install --user pep8_magic.py\n",
    "%load_ext pep8_magic"
   ]
  },
  {
   "cell_type": "code",
   "execution_count": null,
   "metadata": {
    "collapsed": true
   },
   "outputs": [],
   "source": [
    "#%%pep8\n",
    "def objective_function(vector):\n",
    "    return sum([value*value for value in vector])"
   ]
  },
  {
   "cell_type": "code",
   "execution_count": null,
   "metadata": {
    "collapsed": true
   },
   "outputs": [],
   "source": [
    "#%%pep8\n",
    "def random_vector(minmax):\n",
    "    # random.uniform(a, b)\n",
    "    # Return a random floating point number N such that\n",
    "    # a <= N <= b for a <= b and b <= N <= a for b < a.\n",
    "    # The end-point value b may or may not be included in the range\n",
    "    # depending on floating-point rounding\n",
    "    # in the equation a + (b-a) * random()\n",
    "    random_vector = [random.uniform(min_val, max_val)\n",
    "                     for min_val, max_val in minmax]\n",
    "    return random_vector"
   ]
  },
  {
   "cell_type": "code",
   "execution_count": null,
   "metadata": {
    "collapsed": true
   },
   "outputs": [],
   "source": [
    "#%%pep8\n",
    "class Random_search(object):\n",
    "    def __init__(self, search_space, max_iter):\n",
    "        self.search_space = search_space\n",
    "        self.max_iter = max_iter\n",
    "        self.candidate_solutions = []\n",
    "        self.best_solution = None\n",
    "        return\n",
    "\n",
    "    def search(self):\n",
    "        best = None\n",
    "        for i in range(self.max_iter):\n",
    "            candidate = dict()\n",
    "            candidate['vector'] = random_vector(self.search_space)\n",
    "            candidate['cost'] = objective_function(candidate['vector'])\n",
    "            self.candidate_solutions.append(candidate)\n",
    "            if((self.best_solution is None) or\n",
    "               (candidate['cost'] < self.best_solution['cost'])):\n",
    "                self.best_solution = candidate\n",
    "            # print('Iteration : {} Cost : {} Point : {}'.\n",
    "            #      format(i, self.best_solution['cost'],\n",
    "            #             self.best_solution['vector']))\n",
    "        # end for\n",
    "        return best"
   ]
  },
  {
   "cell_type": "code",
   "execution_count": null,
   "metadata": {
    "collapsed": true
   },
   "outputs": [],
   "source": [
    "#%%pep8\n",
    "def scatter_plot_of_solutions_simple(candidate_solutions, best_solution):\n",
    "    print('\\nA simple scatter plot')\n",
    "    x = np.array([candidate['vector'][0] for candidate in candidate_solutions])\n",
    "    y = np.array([candidate['vector'][1] for candidate in candidate_solutions])\n",
    "    z = np.array([candidate['cost'] for candidate in candidate_solutions])\n",
    "    plt.figure(figsize=(15, 5))\n",
    "    plt.scatter(x, y, marker='o', c='gray')\n",
    "    plt.scatter(best_solution['vector'][0], best_solution['vector'][1],\n",
    "                marker='X', c='green')\n",
    "    plt.title('Random search')\n",
    "    plt.xlabel('Dimension 1')\n",
    "    plt.ylabel('Dimension 2')\n",
    "    plt.show()"
   ]
  },
  {
   "cell_type": "code",
   "execution_count": null,
   "metadata": {
    "collapsed": true
   },
   "outputs": [],
   "source": [
    "#%%pep8\n",
    "def scatter_plot_of_solutions_sized(candidate_solutions, best_solution):\n",
    "    print('\\nA simple scatter plot with size of point proportional to cost')\n",
    "    x = np.array([candidate['vector'][0] for candidate in candidate_solutions])\n",
    "    y = np.array([candidate['vector'][1] for candidate in candidate_solutions])\n",
    "    z = np.array([candidate['cost'] for candidate in candidate_solutions])\n",
    "    plt.figure(figsize=(15, 5))\n",
    "    colors = [random.random() for i in range(len(x))]\n",
    "    plt.scatter(x, y, s=10*z, c=z, cmap='viridis')\n",
    "    plt.colorbar()\n",
    "    plt.title('Random search')\n",
    "    plt.xlabel('Dimension 1')\n",
    "    plt.ylabel('Dimension 2')\n",
    "    plt.show()"
   ]
  },
  {
   "cell_type": "code",
   "execution_count": null,
   "metadata": {
    "collapsed": true
   },
   "outputs": [],
   "source": [
    "#%%pep8\n",
    "def scatter_plot_of_solutions_3d(candidate_solutions, best_solution):\n",
    "    print('\\nA simple scatter plot in 3d')\n",
    "    x = np.array([candidate['vector'][0] for candidate in candidate_solutions])\n",
    "    y = np.array([candidate['vector'][1] for candidate in candidate_solutions])\n",
    "    z = np.array([candidate['cost'] for candidate in candidate_solutions])\n",
    "    plt.figure(figsize=(15, 5))\n",
    "    ax = plt.axes(projection='3d')\n",
    "    ax.scatter(x, y, z, s=10*z, c=z, cmap='viridis')\n",
    "    ax.set_title('Random search')\n",
    "    ax.set_xlabel('Dimension 1')\n",
    "    ax.set_ylabel('Dimension 2')\n",
    "    ax.set_zlabel('Cost')\n",
    "    plt.show()"
   ]
  },
  {
   "cell_type": "code",
   "execution_count": null,
   "metadata": {
    "collapsed": true
   },
   "outputs": [],
   "source": [
    "#%%pep8\n",
    "def scatter_plot_of_solutions_annotated(candidate_solutions, best_solution):\n",
    "    print('\\nA simple scatter plot with points annotated with their cost')\n",
    "    x = np.array([candidate['vector'][0] for candidate in candidate_solutions])\n",
    "    y = np.array([candidate['vector'][1] for candidate in candidate_solutions])\n",
    "    z = np.array([candidate['cost'] for candidate in candidate_solutions])\n",
    "    z_rounded = [np.round(val, decimals=2) for val in z]\n",
    "    plt.figure(figsize=(15, 5))\n",
    "    colors = [random.random() for i in range(len(x))]\n",
    "    plt.scatter(x, y, s=10*z, c=z, cmap='viridis')\n",
    "    for val, xi, yi in zip(z_rounded, x, y):\n",
    "        plt.annotate(val, xy=(xi, yi), xytext=(-5, 5),\n",
    "                     textcoords='offset points', ha='right', va='bottom',\n",
    "                     arrowprops=dict(arrowstyle='simple',\n",
    "                                     connectionstyle='arc3, rad=0'))\n",
    "    plt.colorbar()\n",
    "    plt.title('Random search')\n",
    "    plt.xlabel('Dimension 1')\n",
    "    plt.ylabel('Dimension 2')\n",
    "    plt.show()"
   ]
  },
  {
   "cell_type": "code",
   "execution_count": null,
   "metadata": {
    "collapsed": false
   },
   "outputs": [],
   "source": [
    "#%%pep8\n",
    "if __name__ == '__main__':\n",
    "    # problem configuration\n",
    "    problem_size = 2\n",
    "    search_space = [[-5, +5] for i in range(problem_size)]\n",
    "    print('Search space for the algorithm:{}'.format(search_space))\n",
    "    # algorithm configuration\n",
    "    max_iter = 100\n",
    "    # execute the algorithm\n",
    "    random_search = Random_search(search_space, max_iter)\n",
    "    random_search.search()\n",
    "    scatter_plot_of_solutions_simple(random_search.candidate_solutions,\n",
    "                                     random_search.best_solution)\n",
    "    scatter_plot_of_solutions_sized(random_search.candidate_solutions,\n",
    "                                    random_search.best_solution)\n",
    "    scatter_plot_of_solutions_annotated(random_search.candidate_solutions,\n",
    "                                        random_search.best_solution)\n",
    "    scatter_plot_of_solutions_3d(random_search.candidate_solutions,\n",
    "                                 random_search.best_solution)"
   ]
  }
 ],
 "metadata": {
  "kernelspec": {
   "display_name": "Python [conda env:aind]",
   "language": "python",
   "name": "conda-env-aind-py"
  },
  "language_info": {
   "codemirror_mode": {
    "name": "ipython",
    "version": 3
   },
   "file_extension": ".py",
   "mimetype": "text/x-python",
   "name": "python",
   "nbconvert_exporter": "python",
   "pygments_lexer": "ipython3",
   "version": "3.5.4"
  }
 },
 "nbformat": 4,
 "nbformat_minor": 2
}
